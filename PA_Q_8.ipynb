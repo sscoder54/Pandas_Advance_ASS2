{
 "cells": [
  {
   "cell_type": "markdown",
   "id": "a6273bae-7dd9-40c8-af6f-e7ef9028f68d",
   "metadata": {},
   "source": [
    "Write a Python program that takes in two dates as input (in the format YYYY-MM-DD) and\n",
    "calculates the difference between them in days, hours, and minutes using Pandas time delta. The\n",
    "program should prompt the user to enter the dates and display the result."
   ]
  },
  {
   "cell_type": "code",
   "execution_count": 23,
   "id": "966fde2d-851d-4ce1-ad3f-17cd48509d70",
   "metadata": {},
   "outputs": [],
   "source": [
    "import pandas as pd\n",
    "\n",
    "def calculate_time_difference():\n",
    "    # Get input dates from the user\n",
    "    date1_str = input(\"Enter the first date (YYYY-MM-DD): \")\n",
    "    date2_str = input(\"Enter the second date (YYYY-MM-DD): \")\n",
    "\n",
    "    # Convert input strings to Pandas datetime objects\n",
    "    date1 = pd.to_datetime(date1_str)\n",
    "    date2 = pd.to_datetime(date2_str)\n",
    "\n",
    "    # Calculate the time difference\n",
    "    time_difference = date2 - date1\n",
    "\n",
    "    # Extract days, hours, and minutes from the time difference\n",
    "    days_difference = time_difference.days\n",
    "    hours_difference = time_difference.seconds // 3600\n",
    "    minutes_difference = (time_difference.seconds % 3600) // 60\n",
    "\n",
    "    # Display the result\n",
    "    print(f\"\\nTime Difference:\")\n",
    "    print(f\"Days: {days_difference} days\")\n",
    "    print(f\"Hours: {hours_difference} hours\")\n",
    "    print(f\"Minutes: {minutes_difference} minutes\")\n"
   ]
  },
  {
   "cell_type": "code",
   "execution_count": 24,
   "id": "5fd8269e-bb5f-4577-8d6e-79884908eb3a",
   "metadata": {},
   "outputs": [
    {
     "name": "stdin",
     "output_type": "stream",
     "text": [
      "Enter the first date (YYYY-MM-DD):  2024-01-01\n",
      "Enter the second date (YYYY-MM-DD):  2024-01-18\n"
     ]
    },
    {
     "name": "stdout",
     "output_type": "stream",
     "text": [
      "\n",
      "Time Difference:\n",
      "Days: 17 days\n",
      "Hours: 0 hours\n",
      "Minutes: 0 minutes\n"
     ]
    }
   ],
   "source": [
    "calculate_time_difference()"
   ]
  },
  {
   "cell_type": "code",
   "execution_count": null,
   "id": "dc327179-e301-42fa-9a46-867279531094",
   "metadata": {},
   "outputs": [],
   "source": []
  }
 ],
 "metadata": {
  "kernelspec": {
   "display_name": "Python 3 (ipykernel)",
   "language": "python",
   "name": "python3"
  },
  "language_info": {
   "codemirror_mode": {
    "name": "ipython",
    "version": 3
   },
   "file_extension": ".py",
   "mimetype": "text/x-python",
   "name": "python",
   "nbconvert_exporter": "python",
   "pygments_lexer": "ipython3",
   "version": "3.10.8"
  }
 },
 "nbformat": 4,
 "nbformat_minor": 5
}
