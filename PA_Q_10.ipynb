{
 "cells": [
  {
   "cell_type": "code",
   "execution_count": 2,
   "id": "1b0a5f78-0622-4dfb-9b97-b22877da4697",
   "metadata": {},
   "outputs": [],
   "source": [
    "import pandas as pd\n",
    "import matplotlib.pyplot as plt"
   ]
  },
  {
   "cell_type": "code",
   "execution_count": 6,
   "id": "252f1c7a-af96-400c-b84a-83bcec38d4cc",
   "metadata": {},
   "outputs": [],
   "source": [
    "def sales_data_visualize():\n",
    "    filepath = input(\"Enter the path containing the sales data in csv formate\")\n",
    "    \n",
    "    df = pd.read_csv(filepath)\n",
    "    df['Date'] = pd.to_datetime(df['Date'])\n",
    "    \n",
    "    grouped_data = df.groupby(['Product', 'Date'])['Sales'].sum().unstack()\n",
    "\n",
    "    grouped_data.plot(kind='bar', stacked=True, figsize=(10, 6))\n",
    "        \n",
    "    \n",
    "    plt.title('Stacked Bar Chart of Sales Over Time')\n",
    "    plt.xlabel('Date')\n",
    "    plt.ylabel('Sales')\n",
    "    plt.legend(title='Product', bbox_to_anchor=(1.05, 1), loc='upper left')\n",
    "       \n",
    "    plt.show()\n",
    "    "
   ]
  },
  {
   "cell_type": "code",
   "execution_count": null,
   "id": "207a9476-0982-479f-bdc6-ca918cbc11c2",
   "metadata": {},
   "outputs": [],
   "source": [
    "sales_data_visualize()"
   ]
  },
  {
   "cell_type": "code",
   "execution_count": null,
   "id": "67fa918b-5d0e-4170-af42-e67fccb844cf",
   "metadata": {},
   "outputs": [],
   "source": []
  }
 ],
 "metadata": {
  "kernelspec": {
   "display_name": "Python 3 (ipykernel)",
   "language": "python",
   "name": "python3"
  },
  "language_info": {
   "codemirror_mode": {
    "name": "ipython",
    "version": 3
   },
   "file_extension": ".py",
   "mimetype": "text/x-python",
   "name": "python",
   "nbconvert_exporter": "python",
   "pygments_lexer": "ipython3",
   "version": "3.10.8"
  }
 },
 "nbformat": 4,
 "nbformat_minor": 5
}
