{
 "cells": [
  {
   "cell_type": "markdown",
   "id": "76622d54-2379-43ed-bb0b-af940181f89d",
   "metadata": {},
   "source": [
    "Q6. What do you understand about the windows function in pandas and list the types of windows\n",
    "functions?"
   ]
  },
  {
   "cell_type": "markdown",
   "id": "41142283-17c4-445c-b1ca-a4178eac3026",
   "metadata": {},
   "source": [
    "rolling() function: Creates a Rolling object for calculating statistics over a specified window of rows.\n",
    "expanding() function: Creates an Expanding object for calculating statistics over the entire dataset up to the current row.\n"
   ]
  },
  {
   "cell_type": "markdown",
   "id": "66c055a3-8ef1-4236-8ec9-a0bc7ad49fca",
   "metadata": {},
   "source": [
    "Q7. Write a code to print only the current month and year at the time of answering this question."
   ]
  },
  {
   "cell_type": "code",
   "execution_count": 2,
   "id": "b1c848c8-2c0c-40fc-8047-0e84bf363edb",
   "metadata": {},
   "outputs": [],
   "source": [
    "import pandas as pd"
   ]
  },
  {
   "cell_type": "code",
   "execution_count": 3,
   "id": "32963f32-773f-4127-924b-c49ec9ba9bf6",
   "metadata": {},
   "outputs": [
    {
     "name": "stderr",
     "output_type": "stream",
     "text": [
      "/tmp/ipykernel_1281/3127527587.py:1: FutureWarning: The pandas.datetime class is deprecated and will be removed from pandas in a future version. Import from datetime module instead.\n",
      "  present_day = pd.datetime.now()\n"
     ]
    }
   ],
   "source": [
    "present_day = pd.datetime.now()"
   ]
  },
  {
   "cell_type": "code",
   "execution_count": 4,
   "id": "a41aa4f3-31a0-4617-bbfa-ace277eeef3c",
   "metadata": {},
   "outputs": [
    {
     "data": {
      "text/plain": [
       "datetime.datetime(2024, 1, 18, 11, 47, 51, 985906)"
      ]
     },
     "execution_count": 4,
     "metadata": {},
     "output_type": "execute_result"
    }
   ],
   "source": [
    "present_day"
   ]
  },
  {
   "cell_type": "code",
   "execution_count": 21,
   "id": "63377952-6f3e-49de-ad44-b82ee00f05ef",
   "metadata": {},
   "outputs": [
    {
     "data": {
      "text/plain": [
       "datetime.date(2024, 1, 18)"
      ]
     },
     "execution_count": 21,
     "metadata": {},
     "output_type": "execute_result"
    }
   ],
   "source": [
    "present_day.date()"
   ]
  },
  {
   "cell_type": "code",
   "execution_count": 20,
   "id": "f407d5c5-9063-4db3-ab95-ef05fd379351",
   "metadata": {},
   "outputs": [
    {
     "data": {
      "text/plain": [
       "18"
      ]
     },
     "execution_count": 20,
     "metadata": {},
     "output_type": "execute_result"
    }
   ],
   "source": [
    "present_day.date().day"
   ]
  },
  {
   "cell_type": "code",
   "execution_count": 15,
   "id": "fbdeec34-05c6-4095-b7ef-b2778135812f",
   "metadata": {},
   "outputs": [
    {
     "data": {
      "text/plain": [
       "1"
      ]
     },
     "execution_count": 15,
     "metadata": {},
     "output_type": "execute_result"
    }
   ],
   "source": [
    "present_day.month"
   ]
  },
  {
   "cell_type": "code",
   "execution_count": 7,
   "id": "0a5dd358-f179-4b6f-abed-be32ef7505f9",
   "metadata": {},
   "outputs": [
    {
     "data": {
      "text/plain": [
       "2024"
      ]
     },
     "execution_count": 7,
     "metadata": {},
     "output_type": "execute_result"
    }
   ],
   "source": [
    "present_day.year"
   ]
  },
  {
   "cell_type": "code",
   "execution_count": null,
   "id": "8264cf80-ac5a-4f3b-b0f7-1cd071cd11ea",
   "metadata": {},
   "outputs": [],
   "source": []
  }
 ],
 "metadata": {
  "kernelspec": {
   "display_name": "Python 3 (ipykernel)",
   "language": "python",
   "name": "python3"
  },
  "language_info": {
   "codemirror_mode": {
    "name": "ipython",
    "version": 3
   },
   "file_extension": ".py",
   "mimetype": "text/x-python",
   "name": "python",
   "nbconvert_exporter": "python",
   "pygments_lexer": "ipython3",
   "version": "3.10.8"
  }
 },
 "nbformat": 4,
 "nbformat_minor": 5
}
