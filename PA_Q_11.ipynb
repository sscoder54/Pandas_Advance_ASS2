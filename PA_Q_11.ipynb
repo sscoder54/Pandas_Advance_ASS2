{
 "cells": [
  {
   "cell_type": "code",
   "execution_count": 15,
   "id": "47613dcf-2910-40e7-ba80-16190b0dc0df",
   "metadata": {},
   "outputs": [],
   "source": [
    "import pandas as pd"
   ]
  },
  {
   "cell_type": "code",
   "execution_count": 13,
   "id": "9b29ffa9-10bb-4122-89d3-bad80f7153fb",
   "metadata": {},
   "outputs": [],
   "source": [
    "def static_values():\n",
    "    filepath = input(\"Enter the file path\")\n",
    "    \n",
    "    df = pd.read_csv(filepath)\n",
    "    mean_value = df['Test Score'].mean()\n",
    "    print(\"Test Score mean value is:\", mean_value)\n",
    "    median_value = df['Test Score'].median()\n",
    "    print(\"Test Score median value is:\", median_value)\n",
    "    mode_value = df['Test Score'].mode()\n",
    "    print(\"Test Score mode value is:\", mode_value)\n",
    "    \n",
    "    "
   ]
  },
  {
   "cell_type": "code",
   "execution_count": 14,
   "id": "40aca98e-54e9-45d5-a4da-606e740f7eeb",
   "metadata": {},
   "outputs": [
    {
     "name": "stdin",
     "output_type": "stream",
     "text": [
      "Enter the file path student_data.csv\n"
     ]
    },
    {
     "name": "stdout",
     "output_type": "stream",
     "text": [
      "Test Score mean value is: 83.5\n",
      "Test Score median value is: 85.0\n",
      "Test Score mode value is: 0    85\n",
      "Name: Test Score, dtype: int64\n"
     ]
    }
   ],
   "source": [
    "static_values()"
   ]
  },
  {
   "cell_type": "code",
   "execution_count": null,
   "id": "31defe96-5166-4934-8a6c-ca0243a11514",
   "metadata": {},
   "outputs": [],
   "source": []
  }
 ],
 "metadata": {
  "kernelspec": {
   "display_name": "Python 3 (ipykernel)",
   "language": "python",
   "name": "python3"
  },
  "language_info": {
   "codemirror_mode": {
    "name": "ipython",
    "version": 3
   },
   "file_extension": ".py",
   "mimetype": "text/x-python",
   "name": "python",
   "nbconvert_exporter": "python",
   "pygments_lexer": "ipython3",
   "version": "3.10.8"
  }
 },
 "nbformat": 4,
 "nbformat_minor": 5
}
