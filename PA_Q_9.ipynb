{
 "cells": [
  {
   "cell_type": "code",
   "execution_count": 1,
   "id": "37a2eae4-0ed0-46a1-b151-7bc41cf5a7e7",
   "metadata": {},
   "outputs": [],
   "source": [
    "import pandas as pd"
   ]
  },
  {
   "cell_type": "code",
   "execution_count": 2,
   "id": "3779489a-6d12-4f4a-a62b-1f4be4338f8f",
   "metadata": {},
   "outputs": [],
   "source": [
    "def make_categoricl():\n",
    "    file_path = input(\"Enter the file path\")\n",
    "    column_name = input(\"Enter the column\")\n",
    "    category_order = input(\"category_order\").split(',')\n",
    "    print(type(category_order))\n",
    "    \n",
    "    \n",
    "    df = pd.read_csv(file_path)\n",
    "    if (pd.api.types.is_categorical_dtype(df[column_name])):\n",
    "        print(\"NO need to change\")\n",
    "    else:\n",
    "        df[column_name] = pd.Categorical(df[column_name], categories=category_order, ordered=True)\n",
    "        print(\"Changed to categorical\")\n",
    "        print(pd.api.types.is_categorical_dtype(df[column_name]))\n",
    "    df.to_csv('save_modified_file.csv', index=False)\n"
   ]
  },
  {
   "cell_type": "code",
   "execution_count": 3,
   "id": "3feaaca9-2748-418c-a195-58973ee190bd",
   "metadata": {},
   "outputs": [
    {
     "name": "stdin",
     "output_type": "stream",
     "text": [
      "Enter the file path house_pricing_dataset.csv\n",
      "Enter the column Neighborhood\n",
      "category_order ['Rural', 'Suburb', 'Urban']\n"
     ]
    },
    {
     "name": "stdout",
     "output_type": "stream",
     "text": [
      "<class 'list'>\n",
      "Changed to categorical\n",
      "True\n"
     ]
    }
   ],
   "source": [
    "make_categoricl()"
   ]
  },
  {
   "cell_type": "code",
   "execution_count": null,
   "id": "a329712b-bcc4-4ee9-8fab-6efe7ff0aaf5",
   "metadata": {},
   "outputs": [],
   "source": []
  }
 ],
 "metadata": {
  "kernelspec": {
   "display_name": "Python 3 (ipykernel)",
   "language": "python",
   "name": "python3"
  },
  "language_info": {
   "codemirror_mode": {
    "name": "ipython",
    "version": 3
   },
   "file_extension": ".py",
   "mimetype": "text/x-python",
   "name": "python",
   "nbconvert_exporter": "python",
   "pygments_lexer": "ipython3",
   "version": "3.10.8"
  }
 },
 "nbformat": 4,
 "nbformat_minor": 5
}
